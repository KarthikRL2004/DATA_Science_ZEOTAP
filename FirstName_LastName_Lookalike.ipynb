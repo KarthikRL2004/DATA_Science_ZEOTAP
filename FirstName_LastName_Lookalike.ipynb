{
  "nbformat": 4,
  "nbformat_minor": 0,
  "metadata": {
    "colab": {
      "provenance": []
    },
    "kernelspec": {
      "name": "python3",
      "display_name": "Python 3"
    },
    "language_info": {
      "name": "python"
    }
  },
  "cells": [
    {
      "cell_type": "code",
      "execution_count": 5,
      "metadata": {
        "id": "m2C9DH5IhTGr"
      },
      "outputs": [],
      "source": [
        "import pandas as pd\n",
        "from sklearn.metrics.pairwise import cosine_similarity\n",
        "from sklearn.preprocessing import StandardScaler\n",
        "\n",
        "# Assuming your data is in CSV files, replace 'transactions.csv', 'customers.csv', and 'products.csv'\n",
        "# with the actual file names.\n",
        "transactions = pd.read_csv('/Transactions (1).csv')\n",
        "customers = pd.read_csv('/Customers (1).csv')\n",
        "products = pd.read_csv('/Products (1).csv')\n",
        "\n",
        "# Merge datasets for creating user profiles\n",
        "data = transactions.merge(customers, on=\"CustomerID\").merge(products, on=\"ProductID\")"
      ]
    },
    {
      "cell_type": "code",
      "source": [
        "# Aggregate features for customer profiles\n",
        "customer_profiles = data.groupby(\"CustomerID\").agg({\n",
        "    \"TotalValue\": \"sum\",\n",
        "    \"Quantity\": \"sum\",\n",
        "    \"TotalValue\": \"mean\"\n",
        "}).reset_index()"
      ],
      "metadata": {
        "id": "ou83wcEHir43"
      },
      "execution_count": 10,
      "outputs": []
    },
    {
      "cell_type": "code",
      "source": [
        "# Normalize features\n",
        "scaler = StandardScaler()\n",
        "features = scaler.fit_transform(customer_profiles.iloc[:, 1:])"
      ],
      "metadata": {
        "id": "QaEva9Eliu-T"
      },
      "execution_count": 11,
      "outputs": []
    },
    {
      "cell_type": "code",
      "source": [
        "# Compute similarity matrix\n",
        "similarity_matrix = cosine_similarity(features)"
      ],
      "metadata": {
        "id": "UfpXPSxaiyS6"
      },
      "execution_count": 12,
      "outputs": []
    },
    {
      "cell_type": "code",
      "source": [
        "# Find top 3 lookalikes for first 20 customers\n",
        "lookalikes = {}\n",
        "for i, customer in enumerate(customer_profiles['CustomerID'][:20]):\n",
        "    similar_indices = similarity_matrix[i].argsort()[-4:-1][::-1]\n",
        "    similar_customers = [(customer_profiles['CustomerID'][j], similarity_matrix[i][j]) for j in similar_indices]\n",
        "    lookalikes[customer] = similar_customers"
      ],
      "metadata": {
        "id": "90VEkoREi1Ne"
      },
      "execution_count": 13,
      "outputs": []
    },
    {
      "cell_type": "code",
      "source": [
        "# Save lookalikes to a CSV\n",
        "lookalike_df = pd.DataFrame([\n",
        "    {\"CustomerID\": cust, \"SimilarCustomers\": str(similar)} for cust, similar in lookalikes.items() ])"
      ],
      "metadata": {
        "id": "a8sDr_dKi4Ek"
      },
      "execution_count": 14,
      "outputs": []
    },
    {
      "cell_type": "code",
      "source": [
        "lookalike_df.to_csv(\"Lookalike.csv\", index=False)\n",
        "print(\"Lookalike.csv generated.\")"
      ],
      "metadata": {
        "colab": {
          "base_uri": "https://localhost:8080/"
        },
        "id": "A66JtTZyjA1O",
        "outputId": "2d673964-78e7-4389-b1d4-efe91a9457a5"
      },
      "execution_count": 15,
      "outputs": [
        {
          "output_type": "stream",
          "name": "stdout",
          "text": [
            "Lookalike.csv generated.\n"
          ]
        }
      ]
    },
    {
      "cell_type": "code",
      "source": [
        "from google.colab import files\n",
        "files.download(\"Lookalike.csv\")"
      ],
      "metadata": {
        "colab": {
          "base_uri": "https://localhost:8080/",
          "height": 17
        },
        "id": "f0s_ABj2lvwn",
        "outputId": "024c31fa-f29c-4534-d02a-f5a4f2b45f92"
      },
      "execution_count": 19,
      "outputs": [
        {
          "output_type": "display_data",
          "data": {
            "text/plain": [
              "<IPython.core.display.Javascript object>"
            ],
            "application/javascript": [
              "\n",
              "    async function download(id, filename, size) {\n",
              "      if (!google.colab.kernel.accessAllowed) {\n",
              "        return;\n",
              "      }\n",
              "      const div = document.createElement('div');\n",
              "      const label = document.createElement('label');\n",
              "      label.textContent = `Downloading \"${filename}\": `;\n",
              "      div.appendChild(label);\n",
              "      const progress = document.createElement('progress');\n",
              "      progress.max = size;\n",
              "      div.appendChild(progress);\n",
              "      document.body.appendChild(div);\n",
              "\n",
              "      const buffers = [];\n",
              "      let downloaded = 0;\n",
              "\n",
              "      const channel = await google.colab.kernel.comms.open(id);\n",
              "      // Send a message to notify the kernel that we're ready.\n",
              "      channel.send({})\n",
              "\n",
              "      for await (const message of channel.messages) {\n",
              "        // Send a message to notify the kernel that we're ready.\n",
              "        channel.send({})\n",
              "        if (message.buffers) {\n",
              "          for (const buffer of message.buffers) {\n",
              "            buffers.push(buffer);\n",
              "            downloaded += buffer.byteLength;\n",
              "            progress.value = downloaded;\n",
              "          }\n",
              "        }\n",
              "      }\n",
              "      const blob = new Blob(buffers, {type: 'application/binary'});\n",
              "      const a = document.createElement('a');\n",
              "      a.href = window.URL.createObjectURL(blob);\n",
              "      a.download = filename;\n",
              "      div.appendChild(a);\n",
              "      a.click();\n",
              "      div.remove();\n",
              "    }\n",
              "  "
            ]
          },
          "metadata": {}
        },
        {
          "output_type": "display_data",
          "data": {
            "text/plain": [
              "<IPython.core.display.Javascript object>"
            ],
            "application/javascript": [
              "download(\"download_0ca11404-ebe4-4bc8-b05f-57377de87da6\", \"Lookalike.csv\", 2062)"
            ]
          },
          "metadata": {}
        }
      ]
    }
  ]
}